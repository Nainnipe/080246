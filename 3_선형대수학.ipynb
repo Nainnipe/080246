{
  "cells": [
    {
      "cell_type": "code",
      "execution_count": null,
      "metadata": {
        "id": "9jh7noJM_eHM",
        "outputId": "cd37e266-0514-433e-b1fa-1f1392316488"
      },
      "outputs": [
        {
          "name": "stdout",
          "output_type": "stream",
          "text": [
            "[1 2 3]\n"
          ]
        }
      ],
      "source": [
        "# Part 3 선형대수학\n",
        "# 10장 벡터와 공간\n",
        "# 10.1 벡터\n",
        "# 10.1.2 벡터란\n",
        "# 벡터란\n",
        "\n",
        "# Numpy 라이브러리 호출\n",
        "import numpy as np\n",
        "x = np.array([1, 2, 3]) # 크기가 (3, )인 1차원 배열의 표현\n",
        "print(x)"
      ]
    },
    {
      "cell_type": "code",
      "execution_count": null,
      "metadata": {
        "id": "KciO8zvY_eHS",
        "outputId": "03bbacc9-b528-4873-d384-420647a69aec"
      },
      "outputs": [
        {
          "name": "stdout",
          "output_type": "stream",
          "text": [
            "[[1 2 3]]\n"
          ]
        }
      ],
      "source": [
        "u = np.array([[1, 2, 3]])  # 크기가 (1, 3)인 2차원 배열의 표현(행 벡터)\n",
        "print(u)"
      ]
    },
    {
      "cell_type": "code",
      "execution_count": null,
      "metadata": {
        "id": "AsOLrpzu_eHT",
        "outputId": "91c95cd9-7473-41bc-d4a5-4cb05707900a"
      },
      "outputs": [
        {
          "name": "stdout",
          "output_type": "stream",
          "text": [
            "[[1]\n",
            " [2]\n",
            " [3]]\n"
          ]
        }
      ],
      "source": [
        "v = np.array([[1], [2], [3]]) # 크기가 (3, 1)인 2차원 배열의 표현(열 벡터)\n",
        "print(v)"
      ]
    },
    {
      "cell_type": "code",
      "execution_count": null,
      "metadata": {
        "id": "RO1fBk9t_eHU",
        "outputId": "aead3d40-a3dd-46c1-b4a6-660bf232fcb6"
      },
      "outputs": [
        {
          "data": {
            "text/plain": [
              "{1: 0.3333333333333333, 2: 0.6666666666666666, 3: 0.0}"
            ]
          },
          "execution_count": 4,
          "metadata": {},
          "output_type": "execute_result"
        }
      ],
      "source": [
        "# 벡터의 표현(확률분포를 벡터로 표현)\n",
        "{1: 1/3, 2: 2/3, 3: 0/3}"
      ]
    },
    {
      "cell_type": "code",
      "execution_count": null,
      "metadata": {
        "id": "lFspsyk6_eHU",
        "outputId": "2a7160ba-aa68-444b-aa89-59623d6d75d4"
      },
      "outputs": [
        {
          "name": "stdout",
          "output_type": "stream",
          "text": [
            "[0.53452248 0.80178373 0.26726124]\n"
          ]
        }
      ],
      "source": [
        "# 10.1.3 특수한 벡터\n",
        "# 벡터란\n",
        "# 단위벡터\n",
        "\n",
        "import numpy as np\n",
        "from scipy import linalg\n",
        "\n",
        "# 단위 벡터를 위해 두가지 방법을 사용할 수 있다.\n",
        "# NumPy의 서브 패키지인 linalg에서 제공하는 함수 norm()을 사용하여\n",
        "# 벡터의 크기를 계산한 후 기존 벡터로 나눠준다.\n",
        "\n",
        "s=np.array([2,3,1])\n",
        "v_hat01 = s / linalg.norm(s)\n",
        "print(v_hat01)"
      ]
    },
    {
      "cell_type": "code",
      "execution_count": null,
      "metadata": {
        "id": "2rVroE_h_eHV",
        "outputId": "87e0b72a-a459-4033-9d3e-ab126b762527"
      },
      "outputs": [
        {
          "name": "stdout",
          "output_type": "stream",
          "text": [
            "[ 0.31622777 -0.9486833 ]\n"
          ]
        }
      ],
      "source": [
        "# 파이썬 문제풀이(1)\n",
        "\n",
        "import numpy as np\n",
        "x=np.array([1, -3])\n",
        "v_hat = x / linalg.norm(x)\n",
        "print(v_hat)"
      ]
    },
    {
      "cell_type": "code",
      "execution_count": null,
      "metadata": {
        "id": "lzsQmMOW_eHW",
        "outputId": "2a511578-e760-4c24-dbe5-80e088951919"
      },
      "outputs": [
        {
          "data": {
            "text/plain": [
              "array([-0.6, -0.8])"
            ]
          },
          "execution_count": 7,
          "metadata": {},
          "output_type": "execute_result"
        }
      ],
      "source": [
        "# 파이썬 문제풀이(2)\n",
        "\n",
        "import numpy as np\n",
        "x=np.array([-6,-8])\n",
        "v_hat2 = x / (x**2).sum()**0.5\n",
        "v_hat2"
      ]
    },
    {
      "cell_type": "code",
      "execution_count": null,
      "metadata": {
        "id": "6uaaR8Q4_eHW",
        "outputId": "c0310e7b-ee25-4cf5-a232-54956eb31110"
      },
      "outputs": [
        {
          "name": "stdout",
          "output_type": "stream",
          "text": [
            "[-0.78086881 -0.62469505]\n"
          ]
        }
      ],
      "source": [
        "# 파이썬 문제풀이(3)\n",
        "import numpy as np\n",
        "x=np.array([-5, -4])\n",
        "v_hat = x / linalg.norm(x)\n",
        "print (v_hat)"
      ]
    },
    {
      "cell_type": "code",
      "execution_count": null,
      "metadata": {
        "id": "b4Y7Ng1k_eHW",
        "outputId": "ff9ee10c-8961-46fa-d1bf-d68f92053dd0"
      },
      "outputs": [
        {
          "data": {
            "text/plain": [
              "array([0., 0., 0., 0., 0.])"
            ]
          },
          "execution_count": 9,
          "metadata": {},
          "output_type": "execute_result"
        }
      ],
      "source": [
        "# 영벡터\n",
        "\n",
        "import numpy as np\n",
        "np.zeros(5)"
      ]
    },
    {
      "cell_type": "code",
      "execution_count": null,
      "metadata": {
        "id": "Ub-yxtwo_eHX",
        "outputId": "72eb364b-4c41-495c-fac7-8a9f853dc0df"
      },
      "outputs": [
        {
          "data": {
            "text/plain": [
              "(5,)"
            ]
          },
          "execution_count": 10,
          "metadata": {},
          "output_type": "execute_result"
        }
      ],
      "source": [
        "np.zeros(5).shape"
      ]
    },
    {
      "cell_type": "code",
      "execution_count": null,
      "metadata": {
        "id": "82RyPTQC_eHY",
        "outputId": "cdb62cf4-c355-4367-f7da-d2844d397dca"
      },
      "outputs": [
        {
          "data": {
            "text/plain": [
              "array([[0., 0.],\n",
              "       [0., 0.]])"
            ]
          },
          "execution_count": 11,
          "metadata": {},
          "output_type": "execute_result"
        }
      ],
      "source": [
        "s = (2,2)\n",
        "np.zeros(s)"
      ]
    },
    {
      "cell_type": "code",
      "execution_count": null,
      "metadata": {
        "id": "9BgUnGfI_eHY",
        "outputId": "b5a29d0b-3a97-4184-8652-76e782daec27"
      },
      "outputs": [
        {
          "name": "stdout",
          "output_type": "stream",
          "text": [
            "[ 5 -2]\n"
          ]
        }
      ],
      "source": [
        "# 10.2 선형 결합과 선형 독립\n",
        "# 10.2.1 선형 결합(linear combination)과 생성(span)\n",
        "\n",
        "import numpy as np\n",
        "a = np.array([2,4])\n",
        "b = np.array([1,6])\n",
        "c=(4*a)+((-3)*b)\n",
        "print(c)"
      ]
    },
    {
      "cell_type": "code",
      "execution_count": null,
      "metadata": {
        "id": "Ej5eUDd9_eHZ",
        "outputId": "606c61e7-7d5f-48c0-b1b8-d053d1c65163"
      },
      "outputs": [
        {
          "data": {
            "text/plain": [
              "2"
            ]
          },
          "execution_count": 13,
          "metadata": {},
          "output_type": "execute_result"
        }
      ],
      "source": [
        "# 10.2.3 부분공간과 부분공간의 기저\n",
        "# 랭크(rank)\n",
        "\n",
        "import numpy as np\n",
        "X1 = np.array([[2, 7], [5, 1]])\n",
        "np.linalg.matrix_rank(X1)"
      ]
    },
    {
      "cell_type": "code",
      "execution_count": null,
      "metadata": {
        "id": "TUtqB0Zi_eHZ",
        "outputId": "53421d3a-8886-4c7c-ad55-7dc3bca6e783"
      },
      "outputs": [
        {
          "data": {
            "text/plain": [
              "1"
            ]
          },
          "execution_count": 14,
          "metadata": {},
          "output_type": "execute_result"
        }
      ],
      "source": [
        "X1 = np.array([[2, 4], [3, 6]])\n",
        "np.linalg.matrix_rank(X1)"
      ]
    },
    {
      "cell_type": "code",
      "execution_count": 1,
      "metadata": {
        "id": "tXqJJzj8_eHZ",
        "outputId": "3616aa46-bf1a-40d6-90b9-7e0697ffbd9b",
        "colab": {
          "base_uri": "https://localhost:8080/"
        }
      },
      "outputs": [
        {
          "output_type": "stream",
          "name": "stdout",
          "text": [
            "[[1 2]\n",
            " [3 5]]\n"
          ]
        },
        {
          "output_type": "execute_result",
          "data": {
            "text/plain": [
              "2"
            ]
          },
          "metadata": {},
          "execution_count": 1
        }
      ],
      "source": [
        "# 파이썬 문제풀이(1)\n",
        "\n",
        "import numpy as np\n",
        "X1 = np.array([[1, 2], [3, 5]])\n",
        "print(X1)\n",
        "np.linalg.matrix_rank(X1)"
      ]
    },
    {
      "cell_type": "code",
      "execution_count": null,
      "metadata": {
        "id": "cEwSipZQ_eHa",
        "outputId": "76a6fe9f-28d1-4672-e91d-16e3e8512abe"
      },
      "outputs": [
        {
          "data": {
            "text/plain": [
              "1"
            ]
          },
          "execution_count": 16,
          "metadata": {},
          "output_type": "execute_result"
        }
      ],
      "source": [
        "# 파이썬 문제풀이(2)\n",
        "\n",
        "import numpy as np\n",
        "X1 = np.array([[1, 2], [3, 6]])\n",
        "np.linalg.matrix_rank(X1)"
      ]
    },
    {
      "cell_type": "code",
      "execution_count": null,
      "metadata": {
        "id": "RjyBEstC_eHa",
        "outputId": "322aa5cc-2a0e-46b0-b35c-590bf276ce8e"
      },
      "outputs": [
        {
          "name": "stdout",
          "output_type": "stream",
          "text": [
            "[5, 4]\n"
          ]
        }
      ],
      "source": [
        "# 10.3 벡터의 내적과 외적\n",
        "# 10.3.1 벡터의 덧셈과 뺄셈\n",
        "# 벡터의 덧셈\n",
        "\n",
        "x=[2,3]\n",
        "y=[3,1]\n",
        "z=[i+j for i, j in zip(x,y)]\n",
        "print(z)"
      ]
    },
    {
      "cell_type": "code",
      "execution_count": null,
      "metadata": {
        "id": "fEyExrk9_eHb",
        "outputId": "92332a23-6e01-4820-b1f5-e2bc7cee014e"
      },
      "outputs": [
        {
          "data": {
            "text/plain": [
              "[(1, 4), (2, 5), (3, 6)]"
            ]
          },
          "execution_count": 18,
          "metadata": {},
          "output_type": "execute_result"
        }
      ],
      "source": [
        "# 노트\n",
        "\n",
        "list(zip([1, 2, 3], [4, 5, 6]))"
      ]
    },
    {
      "cell_type": "code",
      "execution_count": null,
      "metadata": {
        "id": "yYu5o9Jh_eHb",
        "outputId": "869ae4a0-9596-465c-ee13-4f2950a70a96"
      },
      "outputs": [
        {
          "data": {
            "text/plain": [
              "[(1, 4, 7), (2, 5, 8), (3, 6, 9)]"
            ]
          },
          "execution_count": 19,
          "metadata": {},
          "output_type": "execute_result"
        }
      ],
      "source": [
        "list(zip([1, 2, 3], [4, 5, 6], [7, 8, 9]))"
      ]
    },
    {
      "cell_type": "code",
      "execution_count": null,
      "metadata": {
        "id": "TIHHFEND_eHc",
        "outputId": "c1943a74-b9ad-47a5-a7e0-771d32f2cc55"
      },
      "outputs": [
        {
          "name": "stdout",
          "output_type": "stream",
          "text": [
            "[5 4]\n"
          ]
        }
      ],
      "source": [
        "# NumPy 라이브러리 이용한 간단한 코드\n",
        "\n",
        "import numpy as np\n",
        "u = np.array(x)\n",
        "v = np.array(y)\n",
        "w=u+v\n",
        "print(w)"
      ]
    },
    {
      "cell_type": "code",
      "execution_count": null,
      "metadata": {
        "id": "hdTPSRF9_eHc",
        "outputId": "d2286b05-d0e7-4760-ec82-0d415bb8cd78"
      },
      "outputs": [
        {
          "name": "stdout",
          "output_type": "stream",
          "text": [
            "[-6 13]\n"
          ]
        }
      ],
      "source": [
        "# 파이썬 문제풀이(1)\n",
        "\n",
        "import numpy as np\n",
        "x=[-4,5]\n",
        "y=[-2,8]\n",
        "u = np.array(x)\n",
        "v = np.array(y)\n",
        "w=u+v\n",
        "print(w)"
      ]
    },
    {
      "cell_type": "code",
      "execution_count": null,
      "metadata": {
        "id": "Y9D_f05X_eHd",
        "outputId": "3394ef1b-cce7-4de0-801e-cbdbf050beb6"
      },
      "outputs": [
        {
          "name": "stdout",
          "output_type": "stream",
          "text": [
            "[15 -1]\n"
          ]
        }
      ],
      "source": [
        "# 파이썬 문제풀이(2)\n",
        "\n",
        "import numpy as np\n",
        "x=[11,2]\n",
        "y=[4,-3]\n",
        "u = np.array(x)\n",
        "v = np.array(y)\n",
        "w=u+v\n",
        "print(w)"
      ]
    },
    {
      "cell_type": "code",
      "execution_count": null,
      "metadata": {
        "id": "jCskJFqd_eHf",
        "outputId": "63621729-da84-4938-c0b7-de3db98d5472"
      },
      "outputs": [
        {
          "name": "stdout",
          "output_type": "stream",
          "text": [
            "[-38  19]\n"
          ]
        }
      ],
      "source": [
        "# 파이썬 문제풀이(3)\n",
        "\n",
        "import numpy as np\n",
        "x=[-13,53]\n",
        "y=[-25,-34]\n",
        "u = np.array(x)\n",
        "v = np.array(y)\n",
        "w=u+v\n",
        "print(w)"
      ]
    },
    {
      "cell_type": "code",
      "execution_count": null,
      "metadata": {
        "id": "BpcmTqgM_eHf",
        "outputId": "6fc07272-020f-4fe1-e746-648bf2de4f28"
      },
      "outputs": [
        {
          "name": "stdout",
          "output_type": "stream",
          "text": [
            "[-1, 2]\n"
          ]
        }
      ],
      "source": [
        "# 벡터의 뺄셈\n",
        "\n",
        "x=[2,3]\n",
        "y=[3,1]\n",
        "z=[i-j for i, j in zip(x,y)]\n",
        "print(z)"
      ]
    },
    {
      "cell_type": "code",
      "execution_count": null,
      "metadata": {
        "id": "Vqc0_11S_eHg",
        "outputId": "de0bc47f-b8dc-4c55-9910-5dde5b9d438f"
      },
      "outputs": [
        {
          "name": "stdout",
          "output_type": "stream",
          "text": [
            "[-1  2]\n"
          ]
        }
      ],
      "source": [
        "# NumPy 라이브러리 이용한 간단한 코드\n",
        "\n",
        "import numpy as np\n",
        "u = np.array(x)\n",
        "v = np.array(y)\n",
        "w=u-v\n",
        "print(w)"
      ]
    },
    {
      "cell_type": "code",
      "execution_count": null,
      "metadata": {
        "id": "x1_1D-wP_eHg",
        "outputId": "2dedb0ce-7d84-4a5e-e95a-518be39f86e2"
      },
      "outputs": [
        {
          "name": "stdout",
          "output_type": "stream",
          "text": [
            "[ 2 11]\n"
          ]
        }
      ],
      "source": [
        "# 파이썬 문제풀이(1)\n",
        "\n",
        "import numpy as np\n",
        "x=[-7,15]\n",
        "y=[-9,4]\n",
        "u = np.array(x)\n",
        "v = np.array(y)\n",
        "w=u-v\n",
        "print(w)"
      ]
    },
    {
      "cell_type": "code",
      "execution_count": null,
      "metadata": {
        "id": "yELRzABu_eHg",
        "outputId": "fe4f27a9-f325-4020-f25c-70988b47d3dd"
      },
      "outputs": [
        {
          "name": "stdout",
          "output_type": "stream",
          "text": [
            "[-19  20]\n"
          ]
        }
      ],
      "source": [
        "# 파이썬 문제풀이(2)\n",
        "\n",
        "import numpy as np\n",
        "x=[-11,6]\n",
        "y=[8,-14]\n",
        "u = np.array(x)\n",
        "v = np.array(y)\n",
        "w=u-v\n",
        "print(w)"
      ]
    },
    {
      "cell_type": "code",
      "execution_count": null,
      "metadata": {
        "id": "UKUbKs7d_eHh",
        "outputId": "86b6a9fb-3e76-4a16-f15c-f61543e55ca8"
      },
      "outputs": [
        {
          "name": "stdout",
          "output_type": "stream",
          "text": [
            "[ 8 35]\n"
          ]
        }
      ],
      "source": [
        "# 파이썬 문제풀이(3)\n",
        "\n",
        "import numpy as np\n",
        "x=[-11,14]\n",
        "y=[-19,-21]\n",
        "u = np.array(x)\n",
        "v = np.array(y)\n",
        "w=u-v\n",
        "print(w)"
      ]
    },
    {
      "cell_type": "code",
      "execution_count": null,
      "metadata": {
        "id": "iGEsD2jy_eHh",
        "outputId": "0a345726-ebfa-40a5-b8b3-98b75882abec"
      },
      "outputs": [
        {
          "name": "stdout",
          "output_type": "stream",
          "text": [
            "[24, 32]\n"
          ]
        }
      ],
      "source": [
        "# 10.3.2 벡터의 곱셈\n",
        "# 벡터의 내적\n",
        "\n",
        "x=[3,4]\n",
        "c=8\n",
        "z=[c*I for I in x]\n",
        "print(z)"
      ]
    },
    {
      "cell_type": "code",
      "execution_count": null,
      "metadata": {
        "id": "0grw6rjb_eHi",
        "outputId": "32476b19-581b-415a-9c01-63ada6a8f8fd"
      },
      "outputs": [
        {
          "name": "stdout",
          "output_type": "stream",
          "text": [
            "[24 32]\n"
          ]
        }
      ],
      "source": [
        "# NumPy 라이브러리 이용한 간단한 코드\n",
        "\n",
        "import numpy as np\n",
        "u = np.array([3,4])\n",
        "c = 8\n",
        "w=u*c\n",
        "print(w)"
      ]
    },
    {
      "cell_type": "code",
      "execution_count": null,
      "metadata": {
        "id": "xOT4k-1F_eHi",
        "outputId": "2eb2bbe8-f73d-48d9-856e-a845ae50be36"
      },
      "outputs": [
        {
          "name": "stdout",
          "output_type": "stream",
          "text": [
            "72\n"
          ]
        }
      ],
      "source": [
        "# 벡터의 내적(inner product)\n",
        "\n",
        "import numpy as np\n",
        "u = np.array([6,6])\n",
        "v = np.array([12,0])\n",
        "uv = np.dot(u, v)\n",
        "print(uv)"
      ]
    },
    {
      "cell_type": "code",
      "execution_count": null,
      "metadata": {
        "id": "pK1y4w3t_eHj",
        "outputId": "d82a7f1f-20c4-411f-da99-ed21dfa774e2"
      },
      "outputs": [
        {
          "ename": "ValueError",
          "evalue": "shapes (1,2,3) and (1,2,3) not aligned: 3 (dim 2) != 2 (dim 1)",
          "output_type": "error",
          "traceback": [
            "\u001b[1;31m---------------------------------------------------------------------------\u001b[0m",
            "\u001b[1;31mValueError\u001b[0m                                Traceback (most recent call last)",
            "\u001b[1;32m<ipython-input-32-a3fbbf2ce60f>\u001b[0m in \u001b[0;36m<module>\u001b[1;34m\u001b[0m\n\u001b[0;32m      9\u001b[0m \u001b[0mB5\u001b[0m \u001b[1;33m=\u001b[0m \u001b[0mnp\u001b[0m\u001b[1;33m.\u001b[0m\u001b[0marange\u001b[0m\u001b[1;33m(\u001b[0m\u001b[1;36m1\u001b[0m\u001b[1;33m*\u001b[0m\u001b[1;36m2\u001b[0m\u001b[1;33m*\u001b[0m\u001b[1;36m3\u001b[0m\u001b[1;33m)\u001b[0m\u001b[1;33m.\u001b[0m\u001b[0mreshape\u001b[0m\u001b[1;33m(\u001b[0m\u001b[1;33m(\u001b[0m\u001b[1;36m3\u001b[0m\u001b[1;33m,\u001b[0m\u001b[1;36m1\u001b[0m\u001b[1;33m,\u001b[0m\u001b[1;36m2\u001b[0m\u001b[1;33m)\u001b[0m\u001b[1;33m)\u001b[0m\u001b[1;33m\u001b[0m\u001b[1;33m\u001b[0m\u001b[0m\n\u001b[0;32m     10\u001b[0m \u001b[0mB6\u001b[0m \u001b[1;33m=\u001b[0m \u001b[0mnp\u001b[0m\u001b[1;33m.\u001b[0m\u001b[0marange\u001b[0m\u001b[1;33m(\u001b[0m\u001b[1;36m1\u001b[0m\u001b[1;33m*\u001b[0m\u001b[1;36m2\u001b[0m\u001b[1;33m*\u001b[0m\u001b[1;36m3\u001b[0m\u001b[1;33m)\u001b[0m\u001b[1;33m.\u001b[0m\u001b[0mreshape\u001b[0m\u001b[1;33m(\u001b[0m\u001b[1;33m(\u001b[0m\u001b[1;36m3\u001b[0m\u001b[1;33m,\u001b[0m\u001b[1;36m2\u001b[0m\u001b[1;33m,\u001b[0m\u001b[1;36m1\u001b[0m\u001b[1;33m)\u001b[0m\u001b[1;33m)\u001b[0m\u001b[1;33m\u001b[0m\u001b[1;33m\u001b[0m\u001b[0m\n\u001b[1;32m---> 11\u001b[1;33m \u001b[0mnp\u001b[0m\u001b[1;33m.\u001b[0m\u001b[0mdot\u001b[0m\u001b[1;33m(\u001b[0m\u001b[0mA\u001b[0m\u001b[1;33m,\u001b[0m\u001b[0mB1\u001b[0m\u001b[1;33m)\u001b[0m \u001b[1;31m# 결과는 오류가 맞습니다\u001b[0m\u001b[1;33m\u001b[0m\u001b[1;33m\u001b[0m\u001b[0m\n\u001b[0m",
            "\u001b[1;32m<__array_function__ internals>\u001b[0m in \u001b[0;36mdot\u001b[1;34m(*args, **kwargs)\u001b[0m\n",
            "\u001b[1;31mValueError\u001b[0m: shapes (1,2,3) and (1,2,3) not aligned: 3 (dim 2) != 2 (dim 1)"
          ]
        }
      ],
      "source": [
        "# numpy.dot()를 이용하여 벡터의 내적\n",
        "\n",
        "import numpy as np\n",
        "A = np.arange(1*2*3).reshape((1,2,3))\n",
        "B1 = np.arange(1*2*3).reshape((1,2,3))\n",
        "B2 = np.arange(1*2*3).reshape((1,3,2))\n",
        "B3 = np.arange(1*2*3).reshape((2,1,3))\n",
        "B4 = np.arange(1*2*3).reshape((2,3,1))\n",
        "B5 = np.arange(1*2*3).reshape((3,1,2))\n",
        "B6 = np.arange(1*2*3).reshape((3,2,1))\n",
        "np.dot(A,B1) # 결과는 오류가 맞습니다"
      ]
    },
    {
      "cell_type": "code",
      "execution_count": null,
      "metadata": {
        "id": "7x7dTqYb_eHm",
        "outputId": "e9135c9e-d0e4-429d-e30f-b607c463de98"
      },
      "outputs": [
        {
          "data": {
            "text/plain": [
              "array([[[[10, 13]],\n",
              "\n",
              "        [[28, 40]]]])"
            ]
          },
          "execution_count": 33,
          "metadata": {},
          "output_type": "execute_result"
        }
      ],
      "source": [
        "np.dot(A,B2)"
      ]
    },
    {
      "cell_type": "code",
      "execution_count": null,
      "metadata": {
        "id": "AH29CiNV_eHn",
        "outputId": "abc04b7a-7d05-49dd-ddc5-d33255d785e6"
      },
      "outputs": [
        {
          "ename": "ValueError",
          "evalue": "shapes (1,2,3) and (2,1,3) not aligned: 3 (dim 2) != 1 (dim 1)",
          "output_type": "error",
          "traceback": [
            "\u001b[1;31m---------------------------------------------------------------------------\u001b[0m",
            "\u001b[1;31mValueError\u001b[0m                                Traceback (most recent call last)",
            "\u001b[1;32m<ipython-input-34-94f98aeef2d9>\u001b[0m in \u001b[0;36m<module>\u001b[1;34m\u001b[0m\n\u001b[1;32m----> 1\u001b[1;33m \u001b[0mnp\u001b[0m\u001b[1;33m.\u001b[0m\u001b[0mdot\u001b[0m\u001b[1;33m(\u001b[0m\u001b[0mA\u001b[0m\u001b[1;33m,\u001b[0m\u001b[0mB3\u001b[0m\u001b[1;33m)\u001b[0m \u001b[1;31m# 결과는 오류가 맞습니다\u001b[0m\u001b[1;33m\u001b[0m\u001b[1;33m\u001b[0m\u001b[0m\n\u001b[0m",
            "\u001b[1;32m<__array_function__ internals>\u001b[0m in \u001b[0;36mdot\u001b[1;34m(*args, **kwargs)\u001b[0m\n",
            "\u001b[1;31mValueError\u001b[0m: shapes (1,2,3) and (2,1,3) not aligned: 3 (dim 2) != 1 (dim 1)"
          ]
        }
      ],
      "source": [
        "np.dot(A,B3) # 결과는 오류가 맞습니다"
      ]
    },
    {
      "cell_type": "code",
      "execution_count": null,
      "metadata": {
        "id": "UFr_9P0h_eHo",
        "outputId": "162bddab-95d6-42ae-f168-9eacdbf8a05e"
      },
      "outputs": [
        {
          "data": {
            "text/plain": [
              "array([[[[ 5],\n",
              "         [14]],\n",
              "\n",
              "        [[14],\n",
              "         [50]]]])"
            ]
          },
          "execution_count": 35,
          "metadata": {},
          "output_type": "execute_result"
        }
      ],
      "source": [
        "np.dot(A,B4)"
      ]
    },
    {
      "cell_type": "code",
      "execution_count": null,
      "metadata": {
        "id": "NKpQY1xc_eHo",
        "outputId": "934c2cfe-6a1c-4a36-c968-64f0d8cfb013"
      },
      "outputs": [
        {
          "ename": "ValueError",
          "evalue": "shapes (1,2,3) and (3,1,2) not aligned: 3 (dim 2) != 1 (dim 1)",
          "output_type": "error",
          "traceback": [
            "\u001b[1;31m---------------------------------------------------------------------------\u001b[0m",
            "\u001b[1;31mValueError\u001b[0m                                Traceback (most recent call last)",
            "\u001b[1;32m<ipython-input-36-96b485137ea0>\u001b[0m in \u001b[0;36m<module>\u001b[1;34m\u001b[0m\n\u001b[1;32m----> 1\u001b[1;33m \u001b[0mnp\u001b[0m\u001b[1;33m.\u001b[0m\u001b[0mdot\u001b[0m\u001b[1;33m(\u001b[0m\u001b[0mA\u001b[0m\u001b[1;33m,\u001b[0m\u001b[0mB5\u001b[0m\u001b[1;33m)\u001b[0m \u001b[1;31m# 결과는 오류가 맞습니다\u001b[0m\u001b[1;33m\u001b[0m\u001b[1;33m\u001b[0m\u001b[0m\n\u001b[0m",
            "\u001b[1;32m<__array_function__ internals>\u001b[0m in \u001b[0;36mdot\u001b[1;34m(*args, **kwargs)\u001b[0m\n",
            "\u001b[1;31mValueError\u001b[0m: shapes (1,2,3) and (3,1,2) not aligned: 3 (dim 2) != 1 (dim 1)"
          ]
        }
      ],
      "source": [
        "np.dot(A,B5) # 결과는 오류가 맞습니다"
      ]
    },
    {
      "cell_type": "code",
      "execution_count": null,
      "metadata": {
        "id": "8CQ_aV4a_eHp",
        "outputId": "91fe50c7-2d6c-4db5-8682-01e0a02c953d"
      },
      "outputs": [
        {
          "ename": "ValueError",
          "evalue": "shapes (1,2,3) and (3,2,1) not aligned: 3 (dim 2) != 2 (dim 1)",
          "output_type": "error",
          "traceback": [
            "\u001b[1;31m---------------------------------------------------------------------------\u001b[0m",
            "\u001b[1;31mValueError\u001b[0m                                Traceback (most recent call last)",
            "\u001b[1;32m<ipython-input-37-36bec492a8d6>\u001b[0m in \u001b[0;36m<module>\u001b[1;34m\u001b[0m\n\u001b[1;32m----> 1\u001b[1;33m \u001b[0mnp\u001b[0m\u001b[1;33m.\u001b[0m\u001b[0mdot\u001b[0m\u001b[1;33m(\u001b[0m\u001b[0mA\u001b[0m\u001b[1;33m,\u001b[0m\u001b[0mB6\u001b[0m\u001b[1;33m)\u001b[0m \u001b[1;31m# 결과는 오류가 맞습니다\u001b[0m\u001b[1;33m\u001b[0m\u001b[1;33m\u001b[0m\u001b[0m\n\u001b[0m",
            "\u001b[1;32m<__array_function__ internals>\u001b[0m in \u001b[0;36mdot\u001b[1;34m(*args, **kwargs)\u001b[0m\n",
            "\u001b[1;31mValueError\u001b[0m: shapes (1,2,3) and (3,2,1) not aligned: 3 (dim 2) != 2 (dim 1)"
          ]
        }
      ],
      "source": [
        "np.dot(A,B6) # 결과는 오류가 맞습니다"
      ]
    },
    {
      "cell_type": "code",
      "execution_count": null,
      "metadata": {
        "id": "KWl53Cpn_eHp",
        "outputId": "8dfee29d-33b0-46b7-863b-b802f7cf062d"
      },
      "outputs": [
        {
          "name": "stdout",
          "output_type": "stream",
          "text": [
            "-75\n"
          ]
        }
      ],
      "source": [
        "# 파이썬 문제풀이(1)\n",
        "\n",
        "import numpy as np\n",
        "u = np.array([3, -6])\n",
        "v = np.array([-7, 9])\n",
        "uv = np.dot(u, v)\n",
        "print(uv)"
      ]
    },
    {
      "cell_type": "code",
      "execution_count": null,
      "metadata": {
        "id": "KutSNebn_eHp",
        "outputId": "d9f1fae0-93e8-4768-8261-9e308f79b387"
      },
      "outputs": [
        {
          "name": "stdout",
          "output_type": "stream",
          "text": [
            "11\n"
          ]
        }
      ],
      "source": [
        "# 파이썬 문제풀이(2)\n",
        "\n",
        "import numpy as np\n",
        "u = np.array([-3, 4, 7])\n",
        "v = np.array([-4, -9, 5])\n",
        "uv = np.dot(u, v)\n",
        "print(uv)"
      ]
    },
    {
      "cell_type": "code",
      "execution_count": null,
      "metadata": {
        "id": "l08-lc8I_eH0",
        "outputId": "077d7df7-12e5-4ea3-d0d3-7351e9bad555"
      },
      "outputs": [
        {
          "name": "stdout",
          "output_type": "stream",
          "text": [
            "194\n"
          ]
        }
      ],
      "source": [
        "# 파이썬 문제풀이(3)\n",
        "\n",
        "import numpy as np\n",
        "u = np.array([3, -11, 7])\n",
        "v = np.array([-4, -13, 9])\n",
        "uv = np.dot(u, v)\n",
        "print(uv)"
      ]
    },
    {
      "cell_type": "code",
      "execution_count": null,
      "metadata": {
        "id": "77MUCrG8_eH0",
        "outputId": "8307041d-443b-48da-e10d-0617cf41a32a"
      },
      "outputs": [
        {
          "data": {
            "text/plain": [
              "[-2, 4, -2]"
            ]
          },
          "execution_count": 41,
          "metadata": {},
          "output_type": "execute_result"
        }
      ],
      "source": [
        "# 벡터의 외적\n",
        "a = (1, 3, 5)\n",
        "b = (2, 4, 6)\n",
        "\n",
        "# 벡터의 외적을 위한 수식을 함수로 구현\n",
        "def cross(a, b):\n",
        "    c = [a[1]*b[2] - a[2]*b[1],\n",
        "    a[2]*b[0] - a[0]*b[2],\n",
        "    a[0]*b[1] - a[1]*b[0]]\n",
        "    return c\n",
        "cross(a,b)"
      ]
    },
    {
      "cell_type": "code",
      "execution_count": null,
      "metadata": {
        "id": "hWwjeA72_eH1",
        "outputId": "7509bf1e-f306-44eb-f614-ce9c859665c0"
      },
      "outputs": [
        {
          "name": "stdout",
          "output_type": "stream",
          "text": [
            "[-2  4 -2]\n"
          ]
        }
      ],
      "source": [
        "# Numpy 이용한 벡터 외적 계산\n",
        "import numpy as np\n",
        "print(np.cross(a,b))    # cross() 함수 이용한 결과\n"
      ]
    },
    {
      "cell_type": "code",
      "execution_count": null,
      "metadata": {
        "id": "5Mpl8Fnh_eH1",
        "outputId": "8728ce21-276a-4297-878d-f581dc3ae6d3"
      },
      "outputs": [
        {
          "name": "stdout",
          "output_type": "stream",
          "text": [
            "[94 54 29]\n"
          ]
        }
      ],
      "source": [
        "# 파이썬 문제풀이(1)\n",
        "import numpy as np\n",
        "a = np.array([5, -13, 8])\n",
        "b = np.array([-2, 11, -14])\n",
        "print(np.cross(a,b))"
      ]
    },
    {
      "cell_type": "code",
      "execution_count": null,
      "metadata": {
        "id": "wFYyOQHs_eH1",
        "outputId": "264eca77-a62c-40dc-e21d-e2bbc96c6e1f"
      },
      "outputs": [
        {
          "name": "stdout",
          "output_type": "stream",
          "text": [
            "[-64 142  99]\n"
          ]
        }
      ],
      "source": [
        "# 파이썬 문제풀이(2)\n",
        "import numpy as np\n",
        "a = np.array([-7, 8, -16])\n",
        "b = np.array([-8, -5, 2])\n",
        "print(np.cross(a,b))"
      ]
    },
    {
      "cell_type": "code",
      "execution_count": null,
      "metadata": {
        "id": "x4ys-Oas_eH2",
        "outputId": "e6e7a695-4590-4141-e2d2-4c76ccc28c4f"
      },
      "outputs": [
        {
          "name": "stdout",
          "output_type": "stream",
          "text": [
            "[1 2]\n"
          ]
        }
      ],
      "source": [
        "# 10.3.3 직교벡터\n",
        "# 벡터의 크기와 거리\n",
        "# 벡터의 크기\n",
        "\n",
        "# 벡터  = (1, 2)일 때,  의 길이를 구해 보자.\n",
        "import numpy as np\n",
        "a = np.array([1,2])\n",
        "print(a)"
      ]
    },
    {
      "cell_type": "code",
      "execution_count": null,
      "metadata": {
        "id": "laIyKAvw_eH2",
        "outputId": "ded8b074-8e2e-4d09-e169-5ea7ac3d7758"
      },
      "outputs": [
        {
          "data": {
            "text/plain": [
              "2.23606797749979"
            ]
          },
          "execution_count": 46,
          "metadata": {},
          "output_type": "execute_result"
        }
      ],
      "source": [
        "np.linalg.norm(a) # a의 길이"
      ]
    },
    {
      "cell_type": "code",
      "execution_count": null,
      "metadata": {
        "id": "b6BujQrC_eH3",
        "outputId": "edd84009-79c2-46f7-da17-2c6df245d2a8"
      },
      "outputs": [
        {
          "data": {
            "text/plain": [
              "3.0"
            ]
          },
          "execution_count": 47,
          "metadata": {},
          "output_type": "execute_result"
        }
      ],
      "source": [
        "np.linalg.norm(a, ord=1) # L1 Norm 구하기"
      ]
    },
    {
      "cell_type": "code",
      "execution_count": null,
      "metadata": {
        "id": "bwBpay8E_eH3",
        "outputId": "e085646a-03e3-4fbc-ca15-c1e1bc38b20a"
      },
      "outputs": [
        {
          "data": {
            "text/plain": [
              "2.23606797749979"
            ]
          },
          "execution_count": 48,
          "metadata": {},
          "output_type": "execute_result"
        }
      ],
      "source": [
        "np.linalg.norm(a, ord=2) # L2 Norm 구하기"
      ]
    },
    {
      "cell_type": "code",
      "execution_count": null,
      "metadata": {
        "id": "qkPWkdlV_eH3",
        "outputId": "242dba0a-4989-4694-f856-6ffe1a4fda00"
      },
      "outputs": [
        {
          "data": {
            "text/plain": [
              "12.165525060596439"
            ]
          },
          "execution_count": 49,
          "metadata": {},
          "output_type": "execute_result"
        }
      ],
      "source": [
        "# 파이썬 문제풀이(1)\n",
        "\n",
        "import numpy as np\n",
        "a = np.array([-2,12])\n",
        "np.linalg.norm(a)"
      ]
    },
    {
      "cell_type": "code",
      "execution_count": null,
      "metadata": {
        "id": "Lz-tcUcs_eH3",
        "outputId": "06d46bb5-00b6-43a2-cc31-39e2256d9a25"
      },
      "outputs": [
        {
          "data": {
            "text/plain": [
              "12.206555615733702"
            ]
          },
          "execution_count": 50,
          "metadata": {},
          "output_type": "execute_result"
        }
      ],
      "source": [
        "# 파이썬 문제풀이(2)\n",
        "\n",
        "import numpy as np\n",
        "a=np.array([5**0.5,12])\n",
        "np.linalg.norm(a)"
      ]
    },
    {
      "cell_type": "code",
      "execution_count": null,
      "metadata": {
        "id": "q3r7Kr-o_eH4",
        "outputId": "3e597840-fd00-49e5-ed06-ab9a15f5afcb"
      },
      "outputs": [
        {
          "data": {
            "text/plain": [
              "17.26267650163207"
            ]
          },
          "execution_count": 51,
          "metadata": {},
          "output_type": "execute_result"
        }
      ],
      "source": [
        "# 파이썬 문제풀이(3)\n",
        "\n",
        "import numpy as np\n",
        "a=np.array([3,-15,8])\n",
        "np.linalg.norm(a)"
      ]
    },
    {
      "cell_type": "code",
      "execution_count": null,
      "metadata": {
        "id": "LPamNrys_eH4",
        "outputId": "a67f9029-284e-4705-9fab-28d10bc1cdfb"
      },
      "outputs": [
        {
          "data": {
            "text/plain": [
              "8.660254037844387"
            ]
          },
          "execution_count": 52,
          "metadata": {},
          "output_type": "execute_result"
        }
      ],
      "source": [
        "# 파이썬 문제풀이(4)\n",
        "\n",
        "import numpy as np\n",
        "a=np.array([-7,10**0.5,4])\n",
        "np.linalg.norm(a)"
      ]
    },
    {
      "cell_type": "code",
      "execution_count": null,
      "metadata": {
        "id": "AzkiH1_4_eH4",
        "outputId": "3110b174-91fd-4545-d92f-4b6fa24bcdd0"
      },
      "outputs": [
        {
          "name": "stdout",
          "output_type": "stream",
          "text": [
            "Euclidean distance:  5.196152422706632\n"
          ]
        }
      ],
      "source": [
        "# 벡터의 거리/유사도\n",
        "# Python을 활용한 벡터의 거리계산(유클리드 거리)\n",
        "\n",
        "# scipy.spatia 모듈로부터 distance 함수 호출\n",
        "from scipy.spatial import distance\n",
        "\n",
        "# 두 점 P1과 P2 명시\n",
        "p1 = (1, 2, 3)\n",
        "p2 = (4, 5, 6)\n",
        "\n",
        "# P1과 P2 사이의 유클리드 거리 계산\n",
        "d = distance.euclidean(p1, p2)\n",
        "print(\"Euclidean distance: \",d)"
      ]
    },
    {
      "cell_type": "code",
      "execution_count": null,
      "metadata": {
        "id": "VD79VkA__eH4",
        "outputId": "decb13be-789c-4975-ef46-7a5056962f8a"
      },
      "outputs": [
        {
          "data": {
            "text/plain": [
              "9"
            ]
          },
          "execution_count": 54,
          "metadata": {},
          "output_type": "execute_result"
        }
      ],
      "source": [
        "# 맨해튼 거리(Manhattan distance)\n",
        "\n",
        "# math 함수 호출\n",
        "from math import*\n",
        "\n",
        "# 두 점 P1과 P2 정의\n",
        "p1 = (1, 2, 3)\n",
        "p2 = (4, 5, 6)\n",
        "\n",
        "# 맨해튼 거리를 계산하기 위한 사용자 정의 함수 생성\n",
        "def manhattan_distance(x,y):\n",
        "    return sum(abs(a-b) for a,b in zip(x,y))\n",
        "\n",
        "# P1과 P2 사이의 맨해튼 거리 계산\n",
        "manhattan_distance(p1,p2)"
      ]
    },
    {
      "cell_type": "code",
      "execution_count": null,
      "metadata": {
        "id": "2G3lcqwQ_eH5",
        "outputId": "3f1978f4-2e2c-43ec-9718-d2f25421a2fa"
      },
      "outputs": [
        {
          "name": "stdout",
          "output_type": "stream",
          "text": [
            "0.5773502691896258\n",
            "0.8838834764831843\n",
            "0.8164965809277259\n"
          ]
        }
      ],
      "source": [
        "# 코사인 유사도(Cosine Similarity)\n",
        "\n",
        "from numpy import dot\n",
        "from numpy.linalg import norm\n",
        "import numpy as np\n",
        "\n",
        "def cos_sim(A, B):\n",
        "    return dot(A, B)/(norm(A)*norm(B))\n",
        "\n",
        "doc1=np.array([1,1,1,1,0])\n",
        "doc2=np.array([1,0,1,0,1])\n",
        "doc3=np.array([2,1,1,1,1])\n",
        "\n",
        "print(cos_sim(doc1, doc2)) #문서1과 문서2의 코사인 유사도\n",
        "print(cos_sim(doc1, doc3)) #문서1과 문서3의 코사인 유사도\n",
        "print(cos_sim(doc2, doc3)) #문서2과 문서3의 코사인 유사도"
      ]
    },
    {
      "cell_type": "code",
      "execution_count": null,
      "metadata": {
        "id": "KeAjehJV_eH5",
        "outputId": "58665c15-653a-41be-c6fe-e5ec3b946bcc"
      },
      "outputs": [
        {
          "name": "stdout",
          "output_type": "stream",
          "text": [
            "[[ 1.  0.  0.  0.]\n",
            " [-2.  1.  0.  0.]\n",
            " [-3.  0.  1.  0.]\n",
            " [-4. -0. -0.  1.]]\n"
          ]
        }
      ],
      "source": [
        "# 11장 행렬변환\n",
        "# 11.2 역함수와 역변환\n",
        "# 11.2.2 역행렬\n",
        "\n",
        "import numpy as np\n",
        "A = np.matrix([[1, 0, 0, 0], [2, 1, 0, 0], [3, 0, 1, 0], [4, 0, 0, 1]])\n",
        "print(np.linalg.inv(A))"
      ]
    },
    {
      "cell_type": "code",
      "execution_count": null,
      "metadata": {
        "id": "Y4hBy_ye_eH5",
        "outputId": "1e26fd6f-e5fb-4612-d156-7a7fe090486f"
      },
      "outputs": [
        {
          "name": "stdout",
          "output_type": "stream",
          "text": [
            "[[-2.   1. ]\n",
            " [ 1.5 -0.5]]\n"
          ]
        }
      ],
      "source": [
        "# 파이썬 문제풀이(1)\n",
        "\n",
        "import numpy as np\n",
        "A = np.matrix([[1,2],[3,4]])\n",
        "print(np.linalg.inv(A))"
      ]
    },
    {
      "cell_type": "code",
      "execution_count": null,
      "metadata": {
        "id": "UCR08203_eH6",
        "outputId": "3123b545-9854-47a0-a0ee-2eaacbe6878d"
      },
      "outputs": [
        {
          "ename": "LinAlgError",
          "evalue": "Singular matrix",
          "output_type": "error",
          "traceback": [
            "\u001b[1;31m---------------------------------------------------------------------------\u001b[0m",
            "\u001b[1;31mLinAlgError\u001b[0m                               Traceback (most recent call last)",
            "\u001b[1;32m<ipython-input-58-484cc664a1ff>\u001b[0m in \u001b[0;36m<module>\u001b[1;34m\u001b[0m\n\u001b[0;32m      3\u001b[0m \u001b[1;32mimport\u001b[0m \u001b[0mnumpy\u001b[0m \u001b[1;32mas\u001b[0m \u001b[0mnp\u001b[0m\u001b[1;33m\u001b[0m\u001b[1;33m\u001b[0m\u001b[0m\n\u001b[0;32m      4\u001b[0m \u001b[0mA\u001b[0m \u001b[1;33m=\u001b[0m \u001b[0mnp\u001b[0m\u001b[1;33m.\u001b[0m\u001b[0mmatrix\u001b[0m\u001b[1;33m(\u001b[0m\u001b[1;33m[\u001b[0m\u001b[1;33m[\u001b[0m\u001b[1;36m2\u001b[0m\u001b[1;33m,\u001b[0m\u001b[1;36m3\u001b[0m\u001b[1;33m]\u001b[0m\u001b[1;33m,\u001b[0m\u001b[1;33m[\u001b[0m\u001b[1;36m4\u001b[0m\u001b[1;33m,\u001b[0m\u001b[1;36m6\u001b[0m\u001b[1;33m]\u001b[0m\u001b[1;33m]\u001b[0m\u001b[1;33m)\u001b[0m\u001b[1;33m\u001b[0m\u001b[1;33m\u001b[0m\u001b[0m\n\u001b[1;32m----> 5\u001b[1;33m \u001b[0mprint\u001b[0m\u001b[1;33m(\u001b[0m\u001b[0mnp\u001b[0m\u001b[1;33m.\u001b[0m\u001b[0mlinalg\u001b[0m\u001b[1;33m.\u001b[0m\u001b[0minv\u001b[0m\u001b[1;33m(\u001b[0m\u001b[0mA\u001b[0m\u001b[1;33m)\u001b[0m\u001b[1;33m)\u001b[0m \u001b[1;31m# 결과는 오류가 맞습니다\u001b[0m\u001b[1;33m\u001b[0m\u001b[1;33m\u001b[0m\u001b[0m\n\u001b[0m",
            "\u001b[1;32m<__array_function__ internals>\u001b[0m in \u001b[0;36minv\u001b[1;34m(*args, **kwargs)\u001b[0m\n",
            "\u001b[1;32m~\\anaconda3\\lib\\site-packages\\numpy\\linalg\\linalg.py\u001b[0m in \u001b[0;36minv\u001b[1;34m(a)\u001b[0m\n\u001b[0;32m    545\u001b[0m     \u001b[0msignature\u001b[0m \u001b[1;33m=\u001b[0m \u001b[1;34m'D->D'\u001b[0m \u001b[1;32mif\u001b[0m \u001b[0misComplexType\u001b[0m\u001b[1;33m(\u001b[0m\u001b[0mt\u001b[0m\u001b[1;33m)\u001b[0m \u001b[1;32melse\u001b[0m \u001b[1;34m'd->d'\u001b[0m\u001b[1;33m\u001b[0m\u001b[1;33m\u001b[0m\u001b[0m\n\u001b[0;32m    546\u001b[0m     \u001b[0mextobj\u001b[0m \u001b[1;33m=\u001b[0m \u001b[0mget_linalg_error_extobj\u001b[0m\u001b[1;33m(\u001b[0m\u001b[0m_raise_linalgerror_singular\u001b[0m\u001b[1;33m)\u001b[0m\u001b[1;33m\u001b[0m\u001b[1;33m\u001b[0m\u001b[0m\n\u001b[1;32m--> 547\u001b[1;33m     \u001b[0mainv\u001b[0m \u001b[1;33m=\u001b[0m \u001b[0m_umath_linalg\u001b[0m\u001b[1;33m.\u001b[0m\u001b[0minv\u001b[0m\u001b[1;33m(\u001b[0m\u001b[0ma\u001b[0m\u001b[1;33m,\u001b[0m \u001b[0msignature\u001b[0m\u001b[1;33m=\u001b[0m\u001b[0msignature\u001b[0m\u001b[1;33m,\u001b[0m \u001b[0mextobj\u001b[0m\u001b[1;33m=\u001b[0m\u001b[0mextobj\u001b[0m\u001b[1;33m)\u001b[0m\u001b[1;33m\u001b[0m\u001b[1;33m\u001b[0m\u001b[0m\n\u001b[0m\u001b[0;32m    548\u001b[0m     \u001b[1;32mreturn\u001b[0m \u001b[0mwrap\u001b[0m\u001b[1;33m(\u001b[0m\u001b[0mainv\u001b[0m\u001b[1;33m.\u001b[0m\u001b[0mastype\u001b[0m\u001b[1;33m(\u001b[0m\u001b[0mresult_t\u001b[0m\u001b[1;33m,\u001b[0m \u001b[0mcopy\u001b[0m\u001b[1;33m=\u001b[0m\u001b[1;32mFalse\u001b[0m\u001b[1;33m)\u001b[0m\u001b[1;33m)\u001b[0m\u001b[1;33m\u001b[0m\u001b[1;33m\u001b[0m\u001b[0m\n\u001b[0;32m    549\u001b[0m \u001b[1;33m\u001b[0m\u001b[0m\n",
            "\u001b[1;32m~\\anaconda3\\lib\\site-packages\\numpy\\linalg\\linalg.py\u001b[0m in \u001b[0;36m_raise_linalgerror_singular\u001b[1;34m(err, flag)\u001b[0m\n\u001b[0;32m     95\u001b[0m \u001b[1;33m\u001b[0m\u001b[0m\n\u001b[0;32m     96\u001b[0m \u001b[1;32mdef\u001b[0m \u001b[0m_raise_linalgerror_singular\u001b[0m\u001b[1;33m(\u001b[0m\u001b[0merr\u001b[0m\u001b[1;33m,\u001b[0m \u001b[0mflag\u001b[0m\u001b[1;33m)\u001b[0m\u001b[1;33m:\u001b[0m\u001b[1;33m\u001b[0m\u001b[1;33m\u001b[0m\u001b[0m\n\u001b[1;32m---> 97\u001b[1;33m     \u001b[1;32mraise\u001b[0m \u001b[0mLinAlgError\u001b[0m\u001b[1;33m(\u001b[0m\u001b[1;34m\"Singular matrix\"\u001b[0m\u001b[1;33m)\u001b[0m\u001b[1;33m\u001b[0m\u001b[1;33m\u001b[0m\u001b[0m\n\u001b[0m\u001b[0;32m     98\u001b[0m \u001b[1;33m\u001b[0m\u001b[0m\n\u001b[0;32m     99\u001b[0m \u001b[1;32mdef\u001b[0m \u001b[0m_raise_linalgerror_nonposdef\u001b[0m\u001b[1;33m(\u001b[0m\u001b[0merr\u001b[0m\u001b[1;33m,\u001b[0m \u001b[0mflag\u001b[0m\u001b[1;33m)\u001b[0m\u001b[1;33m:\u001b[0m\u001b[1;33m\u001b[0m\u001b[1;33m\u001b[0m\u001b[0m\n",
            "\u001b[1;31mLinAlgError\u001b[0m: Singular matrix"
          ]
        }
      ],
      "source": [
        "# 파이썬 문제풀이(2)\n",
        "\n",
        "import numpy as np\n",
        "A = np.matrix([[2,3],[4,6]])\n",
        "print(np.linalg.inv(A)) # 결과는 오류가 맞습니다"
      ]
    },
    {
      "cell_type": "code",
      "execution_count": null,
      "metadata": {
        "id": "tkmsTlyq_eH6",
        "outputId": "d0ca9568-3c83-410e-80ae-6b239ec69cdb"
      },
      "outputs": [
        {
          "name": "stdout",
          "output_type": "stream",
          "text": [
            "[[ 0  1  2  3  4]\n",
            " [ 5  6  7  8  9]\n",
            " [10 11 12 13 14]]\n"
          ]
        }
      ],
      "source": [
        "# 11.3 전치행렬\n",
        "# 11.3.1 전치행렬이란\n",
        "\n",
        "import numpy as np\n",
        "a = np.arange(15).reshape(3, 5)\n",
        "print(a)"
      ]
    },
    {
      "cell_type": "code",
      "execution_count": null,
      "metadata": {
        "id": "wJGcWPa-_eH6",
        "outputId": "247d63de-efed-4786-8c94-bc162ca00f67"
      },
      "outputs": [
        {
          "data": {
            "text/plain": [
              "array([[ 0,  5, 10],\n",
              "       [ 1,  6, 11],\n",
              "       [ 2,  7, 12],\n",
              "       [ 3,  8, 13],\n",
              "       [ 4,  9, 14]])"
            ]
          },
          "execution_count": 60,
          "metadata": {},
          "output_type": "execute_result"
        }
      ],
      "source": [
        "np.transpose(a)"
      ]
    },
    {
      "cell_type": "code",
      "execution_count": null,
      "metadata": {
        "id": "oFE5Spvl_eH6",
        "outputId": "00076715-75b5-410c-984c-6b70e3591c1f"
      },
      "outputs": [
        {
          "name": "stdout",
          "output_type": "stream",
          "text": [
            "[5.44948974 0.55051026]\n",
            "[[ 0.91209559  0.21927526]\n",
            " [-0.40997761  0.97566304]]\n"
          ]
        }
      ],
      "source": [
        "# 12장 상호좌표계\n",
        "# 12.1 고유값(eigenvalue), 고유벡터(eigenvector), 공유공간\n",
        "# 12.1.1 고유값과 고유벡터란\n",
        "\n",
        "import numpy as np\n",
        "a = np.array([[5,-1],[-2,1]])\n",
        "w, v = np.linalg.eig(a)\n",
        "\n",
        "print(w)\n",
        "print(v)"
      ]
    },
    {
      "cell_type": "code",
      "execution_count": null,
      "metadata": {
        "id": "dnQJwE25_eH7",
        "outputId": "862dfc5b-df0a-4eb9-c5ab-63be0d2f5510"
      },
      "outputs": [
        {
          "name": "stdout",
          "output_type": "stream",
          "text": [
            "[-2.  5.]\n",
            "[[-0.70710678 -0.6       ]\n",
            " [ 0.70710678 -0.8       ]]\n"
          ]
        }
      ],
      "source": [
        "# 파이썬 문제풀이\n",
        "import numpy as np\n",
        "a = np.array([[1,3],[4,2]])\n",
        "w, v = np.linalg.eig(a)\n",
        "print(w)\n",
        "print(v)"
      ]
    },
    {
      "cell_type": "code",
      "execution_count": null,
      "metadata": {
        "id": "yiahNp3M_eH7"
      },
      "outputs": [],
      "source": []
    }
  ],
  "metadata": {
    "kernelspec": {
      "display_name": "Python 3",
      "language": "python",
      "name": "python3"
    },
    "language_info": {
      "codemirror_mode": {
        "name": "ipython",
        "version": 3
      },
      "file_extension": ".py",
      "mimetype": "text/x-python",
      "name": "python",
      "nbconvert_exporter": "python",
      "pygments_lexer": "ipython3",
      "version": "3.7.6"
    },
    "colab": {
      "provenance": []
    }
  },
  "nbformat": 4,
  "nbformat_minor": 0
}